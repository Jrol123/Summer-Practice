{
 "cells": [
  {
   "cell_type": "markdown",
   "metadata": {},
   "source": [
    "# ООП"
   ]
  },
  {
   "cell_type": "markdown",
   "metadata": {},
   "source": [
    "wiki: Объе́ктно-ориенти́рованное программи́рование (ООП) — методология программирования, основанная на представлении программы в виде совокупности объектов, каждый из которых является экземпляром определённого класса, а классы образуют иерархию наследования."
   ]
  },
  {
   "cell_type": "markdown",
   "metadata": {},
   "source": [
    "#### Основные понятия\n",
    "* Класс - является моделью объекта, описывает его свойства и поведение. \n",
    "* Экземпрял класса - \n",
    "* Объект - сущнойсть, которая появляется в результате создани экземпляра класса. Хранит конкретные значения и выполняет действия характерные для его класса.\n",
    "* Атрибут (поле) - свойство, присущее объекту. Грубо говоря - переменные для конкретного объекта. \n",
    "* Метод - действия, связанные с классом. Грубо говоря - функции для конкретного объекта."
   ]
  },
  {
   "cell_type": "markdown",
   "metadata": {},
   "source": [
    "#### Основные принципы ООП\n",
    "* Полиморфизм\n",
    "* Наследование\n",
    "* Инкапсуляция"
   ]
  },
  {
   "cell_type": "markdown",
   "metadata": {},
   "source": [
    "разберем на примере: 1, 2, 'a', [1, 2, 3] - объекты. int, str, list - классы.\n",
    "Здесь,\n",
    "1, 2, 3 - экземпляр класса int\n",
    "'a' - экземпляр класса str\n",
    "[1, 2, 3] - экземпляр класса list"
   ]
  },
  {
   "cell_type": "code",
   "execution_count": null,
   "metadata": {},
   "outputs": [],
   "source": [
    "# Функция type покажет к какому классу отностится экземпляр\n",
    "print(type(1))\n",
    "print(type('a'))"
   ]
  },
  {
   "cell_type": "code",
   "execution_count": 1,
   "metadata": {},
   "outputs": [
    {
     "name": "stdout",
     "output_type": "stream",
     "text": [
      "<class '__main__.Car'>\n"
     ]
    }
   ],
   "source": [
    "# Создание класса\n",
    "class Car: # Имена классов по стандарту PEP8 должны начинаться с большой буквы\n",
    "    pass # в теле класса определяем поля и методы \n",
    "print(Car)"
   ]
  },
  {
   "cell_type": "code",
   "execution_count": 2,
   "metadata": {},
   "outputs": [
    {
     "name": "stdout",
     "output_type": "stream",
     "text": [
      "4540488448 4540488392\n"
     ]
    }
   ],
   "source": [
    "# После создания класса определим экземпляры класса\n",
    "car1 = Car()\n",
    "car2 = Car()\n",
    "print(id(car1), id(car2))# переменные car1, car2 - ссылаются на два разных объекта"
   ]
  },
  {
   "cell_type": "code",
   "execution_count": 4,
   "metadata": {},
   "outputs": [],
   "source": [
    "# класс можно наделить различными полями и методами на ходу.\n",
    "car1.color = 'red'\n",
    "car2.weight = 1000\n",
    "# в таком случае каждое поле и метод будут доступны только внутри своего экземпляра\n",
    "# print(car2.color)"
   ]
  },
  {
   "cell_type": "code",
   "execution_count": null,
   "metadata": {},
   "outputs": [],
   "source": [
    "# методы классов\n",
    "class Car:\n",
    "    def drive_to(self, location): # self ссылка на самого себя\n",
    "        print('drive to', location)\n",
    "\n",
    "car = Car()\n",
    "car.drive_to('Vladivostok')\n",
    "# о self\n",
    "# Когда программа вызовает метод объкта, питон передает ему первым аргументом экземпляр вызывающего объекта. \n",
    "# Можно сказать, что выражение преобразуется из car.drive_to('Vladivostok') в drive_to(car, 'Vladivostok')\n",
    "# Поэтому важно, чтобы он всегда стоял на первом месте\n",
    "# Называть переменную не рекомендуется как-то иначе, чтобы не запутать ни себя ни других программистов"
   ]
  },
  {
   "cell_type": "code",
   "execution_count": null,
   "metadata": {},
   "outputs": [],
   "source": [
    "# сокрытие информации о внутреннем устройстве объекта за внешним интерфейсом называется инкапсуляцией"
   ]
  },
  {
   "cell_type": "code",
   "execution_count": 5,
   "metadata": {},
   "outputs": [
    {
     "ename": "NameError",
     "evalue": "name 'engine_on' is not defined",
     "output_type": "error",
     "traceback": [
      "\u001b[0;31m---------------------------------------------------------------------------\u001b[0m",
      "\u001b[0;31mNameError\u001b[0m                                 Traceback (most recent call last)",
      "\u001b[0;32m<ipython-input-5-7b82eb6adbfa>\u001b[0m in \u001b[0;36m<module>\u001b[0;34m\u001b[0m\n\u001b[1;32m     12\u001b[0m \u001b[0mcar\u001b[0m \u001b[0;34m=\u001b[0m \u001b[0mCar\u001b[0m\u001b[0;34m(\u001b[0m\u001b[0;34m)\u001b[0m\u001b[0;34m\u001b[0m\u001b[0m\n\u001b[1;32m     13\u001b[0m \u001b[0mcar\u001b[0m\u001b[0;34m.\u001b[0m\u001b[0mstart_engine\u001b[0m\u001b[0;34m(\u001b[0m\u001b[0;34m)\u001b[0m\u001b[0;34m\u001b[0m\u001b[0m\n\u001b[0;32m---> 14\u001b[0;31m \u001b[0mcar\u001b[0m\u001b[0;34m.\u001b[0m\u001b[0mdrive_to\u001b[0m\u001b[0;34m(\u001b[0m\u001b[0;34m'Vladivostok'\u001b[0m\u001b[0;34m)\u001b[0m\u001b[0;34m\u001b[0m\u001b[0m\n\u001b[0m",
      "\u001b[0;32m<ipython-input-5-7b82eb6adbfa>\u001b[0m in \u001b[0;36mdrive_to\u001b[0;34m(self, location)\u001b[0m\n\u001b[1;32m      5\u001b[0m \u001b[0;34m\u001b[0m\u001b[0m\n\u001b[1;32m      6\u001b[0m     \u001b[0;32mdef\u001b[0m \u001b[0mdrive_to\u001b[0m\u001b[0;34m(\u001b[0m\u001b[0mself\u001b[0m\u001b[0;34m,\u001b[0m \u001b[0mlocation\u001b[0m\u001b[0;34m)\u001b[0m\u001b[0;34m:\u001b[0m\u001b[0;34m\u001b[0m\u001b[0m\n\u001b[0;32m----> 7\u001b[0;31m         \u001b[0;32mif\u001b[0m \u001b[0mengine_on\u001b[0m\u001b[0;34m:\u001b[0m\u001b[0;34m\u001b[0m\u001b[0m\n\u001b[0m\u001b[1;32m      8\u001b[0m             \u001b[0mprint\u001b[0m\u001b[0;34m(\u001b[0m\u001b[0;34m'drive to'\u001b[0m\u001b[0;34m,\u001b[0m \u001b[0mlocation\u001b[0m\u001b[0;34m)\u001b[0m\u001b[0;34m\u001b[0m\u001b[0m\n\u001b[1;32m      9\u001b[0m         \u001b[0;32melse\u001b[0m\u001b[0;34m:\u001b[0m\u001b[0;34m\u001b[0m\u001b[0m\n",
      "\u001b[0;31mNameError\u001b[0m: name 'engine_on' is not defined"
     ]
    }
   ],
   "source": [
    "# где ошибка\n",
    "class Car:\n",
    "    def start_engine(self):\n",
    "        engine_on = True\n",
    "        \n",
    "    def drive_to(self, location):\n",
    "        if engine_on:\n",
    "            print('drive to', location)\n",
    "        else:\n",
    "            print('Car is not running')\n",
    "            \n",
    "car = Car()\n",
    "car.start_engine()\n",
    "car.drive_to('Vladivostok')"
   ]
  },
  {
   "cell_type": "code",
   "execution_count": 9,
   "metadata": {},
   "outputs": [
    {
     "ename": "AttributeError",
     "evalue": "'Car' object has no attribute 'engine_on'",
     "output_type": "error",
     "traceback": [
      "\u001b[0;31m---------------------------------------------------------------------------\u001b[0m",
      "\u001b[0;31mAttributeError\u001b[0m                            Traceback (most recent call last)",
      "\u001b[0;32m<ipython-input-9-7ae579ccb4b7>\u001b[0m in \u001b[0;36m<module>\u001b[0;34m\u001b[0m\n\u001b[1;32m     11\u001b[0m \u001b[0mcar\u001b[0m \u001b[0;34m=\u001b[0m \u001b[0mCar\u001b[0m\u001b[0;34m(\u001b[0m\u001b[0;34m)\u001b[0m\u001b[0;34m\u001b[0m\u001b[0m\n\u001b[1;32m     12\u001b[0m \u001b[0;31m# car.start_engine()\u001b[0m\u001b[0;34m\u001b[0m\u001b[0;34m\u001b[0m\u001b[0m\n\u001b[0;32m---> 13\u001b[0;31m \u001b[0mcar\u001b[0m\u001b[0;34m.\u001b[0m\u001b[0mdrive_to\u001b[0m\u001b[0;34m(\u001b[0m\u001b[0;34m'Vladivostok'\u001b[0m\u001b[0;34m)\u001b[0m\u001b[0;34m\u001b[0m\u001b[0m\n\u001b[0m\u001b[1;32m     14\u001b[0m \u001b[0;31m# убрать предпоследнюю строку\u001b[0m\u001b[0;34m\u001b[0m\u001b[0;34m\u001b[0m\u001b[0m\n",
      "\u001b[0;32m<ipython-input-9-7ae579ccb4b7>\u001b[0m in \u001b[0;36mdrive_to\u001b[0;34m(self, location)\u001b[0m\n\u001b[1;32m      4\u001b[0m \u001b[0;34m\u001b[0m\u001b[0m\n\u001b[1;32m      5\u001b[0m     \u001b[0;32mdef\u001b[0m \u001b[0mdrive_to\u001b[0m\u001b[0;34m(\u001b[0m\u001b[0mself\u001b[0m\u001b[0;34m,\u001b[0m \u001b[0mlocation\u001b[0m\u001b[0;34m)\u001b[0m\u001b[0;34m:\u001b[0m\u001b[0;34m\u001b[0m\u001b[0m\n\u001b[0;32m----> 6\u001b[0;31m         \u001b[0;32mif\u001b[0m \u001b[0mself\u001b[0m\u001b[0;34m.\u001b[0m\u001b[0mengine_on\u001b[0m\u001b[0;34m:\u001b[0m\u001b[0;34m\u001b[0m\u001b[0m\n\u001b[0m\u001b[1;32m      7\u001b[0m             \u001b[0mprint\u001b[0m\u001b[0;34m(\u001b[0m\u001b[0;34m'drive to'\u001b[0m\u001b[0;34m,\u001b[0m \u001b[0mlocation\u001b[0m\u001b[0;34m)\u001b[0m\u001b[0;34m\u001b[0m\u001b[0m\n\u001b[1;32m      8\u001b[0m         \u001b[0;32melse\u001b[0m\u001b[0;34m:\u001b[0m\u001b[0;34m\u001b[0m\u001b[0m\n",
      "\u001b[0;31mAttributeError\u001b[0m: 'Car' object has no attribute 'engine_on'"
     ]
    }
   ],
   "source": [
    "class Car:\n",
    "    def start_engine(self):\n",
    "        self.engine_on = True\n",
    "        \n",
    "    def drive_to(self, location):\n",
    "        if self.engine_on:\n",
    "            print('drive to', location)\n",
    "        else:\n",
    "            print('Car is not running')\n",
    "            \n",
    "car = Car()\n",
    "# car.start_engine()\n",
    "car.drive_to('Vladivostok')\n",
    "# убрать предпоследнюю строку"
   ]
  },
  {
   "cell_type": "code",
   "execution_count": 10,
   "metadata": {},
   "outputs": [
    {
     "name": "stdout",
     "output_type": "stream",
     "text": [
      "drive to Vladivostok\n"
     ]
    }
   ],
   "source": [
    "# инициализация классов\n",
    "# если определен init, то интерпретатор автоматически вызывает его при создании экземпляра\n",
    "class Car:\n",
    "    def __init__(self):\n",
    "        self.engine_on = False\n",
    "    \n",
    "    def start_engine(self):\n",
    "        self.engine_on = True\n",
    "        \n",
    "    def drive_to(self, location):\n",
    "        if self.engine_on:\n",
    "            print('drive to', location)\n",
    "        else:\n",
    "            print('Car is not running')\n",
    "            \n",
    "car = Car()\n",
    "car.start_engine()\n",
    "car.drive_to('Vladivostok')\n"
   ]
  },
  {
   "cell_type": "code",
   "execution_count": 8,
   "metadata": {},
   "outputs": [
    {
     "name": "stdout",
     "output_type": "stream",
     "text": [
      "red Car is not running\n"
     ]
    }
   ],
   "source": [
    "# передача аргументов в init\n",
    "class Car:\n",
    "    def __init__(self, color):\n",
    "        self.engine_on = False\n",
    "        self.color = color\n",
    "    \n",
    "    def start_engine(self):\n",
    "        self.engine_on = True\n",
    "        \n",
    "    def drive_to(self, location):\n",
    "        if self.engine_on:\n",
    "            print('drive to', location)\n",
    "        else:\n",
    "            print(f'{self.color} Car is not running')\n",
    "            \n",
    "car = Car('red')\n",
    "# car.start_engine()\n",
    "car.drive_to('Vladivostok')\n"
   ]
  },
  {
   "cell_type": "code",
   "execution_count": null,
   "metadata": {},
   "outputs": [],
   "source": [
    "# Полиморфизм - свойство, позволяющее работать с разными типами данных\n",
    "\n",
    "print(1 + 2)\n",
    "print('a' + 'b')\n",
    "print([1] + [2, 3])"
   ]
  },
  {
   "cell_type": "code",
   "execution_count": null,
   "metadata": {},
   "outputs": [],
   "source": [
    "from math import pi\n",
    " \n",
    "\n",
    "class Circle:\n",
    "    def __init__(self, radius):\n",
    "        self.radius = radius\n",
    " \n",
    "    def area(self):\n",
    "        return pi * self.radius ** 2\n",
    " \n",
    "    def perimeter(self):\n",
    "        return 2 * pi * self.radius\n",
    " \n",
    " \n",
    "class Square:\n",
    "    def __init__(self, side):\n",
    "        self.side = side\n",
    " \n",
    "    def area(self):\n",
    "        return self.side * self.side\n",
    " \n",
    "    def perimeter(self):\n",
    "        return 4 * self.side\n"
   ]
  },
  {
   "cell_type": "code",
   "execution_count": null,
   "metadata": {},
   "outputs": [],
   "source": [
    "def print_shape_info(shape):\n",
    "    print(\"Area = {}, perimeter = {}.\".format(shape.area(),\n",
    "                                              shape.perimeter()))\n",
    " \n",
    " \n",
    "square = Square(10)  \n",
    "# Area = 100, perimeter = 40.\n",
    "print_shape_info(square)\n",
    "\n",
    "circle = Circle(10)  \n",
    "# Area = 314.1592653589793, perimeter = 62.83185307179586.\n",
    "print_shape_info(circle)"
   ]
  },
  {
   "cell_type": "code",
   "execution_count": null,
   "metadata": {},
   "outputs": [],
   "source": [
    "# проверка типа объекта\n",
    "print(isinstance(circle, Circle))\n",
    "print(type(circle) is Circle)"
   ]
  },
  {
   "cell_type": "code",
   "execution_count": null,
   "metadata": {},
   "outputs": [],
   "source": [
    "for person in people:\n",
    "    if isinstance(person, Student):\n",
    "        print(person.university)\n",
    "    elif isinstance(person, Employee):\n",
    "        print(person.company)\n",
    "    else:\n",
    "        print(person.name)\n",
    "    print()"
   ]
  },
  {
   "cell_type": "code",
   "execution_count": null,
   "metadata": {},
   "outputs": [],
   "source": [
    "# специальные (магические) методы \n",
    "# свои создавать нельзя, можно использовать существующие\n",
    "# один из таих методом - init()\n",
    "# если интерпретатор встречает 'x + y', он заменяет его на x.__add__(y)\n",
    "\n",
    "class Time:\n",
    "    def __init__(self, minutes, seconds):\n",
    "        self.minutes = minutes\n",
    "        self.seconds = seconds\n",
    " \n",
    "    def __add__(self, other):\n",
    "        m = self.minutes + other.minutes\n",
    "        s = self.seconds + other.seconds\n",
    "        m += s // 60\n",
    "        s = s % 60\n",
    "        return Time(m, s)\n",
    "    \n",
    "    def __iadd__(self, other):\n",
    "        m = self.minutes + other.minutes\n",
    "        s = self.seconds + other.seconds\n",
    "        m += s // 60\n",
    "        s = s % 60\n",
    "        self.minutes = m\n",
    "        self.seconds = s\n",
    "        return self\n",
    " \n",
    "    def info(self):\n",
    "        return '{}:{}'.format(self.minutes, self.seconds)\n",
    "    \n",
    "t1 = Time(5, 50)\n",
    "print(t1.info())    # 5:50\n",
    "t2 = Time(3, 20)\n",
    "print(t2.info())    # 3:20\n",
    "t3 = t1 + t2\n",
    "print(t3.info())    # 9:10\n",
    "\n",
    "# при реализации операции сложения (+) мы переопределяем метод __add__. \n",
    "# Если нам нужно определить опрератор '+=' нужно переопределить метод __iadd__.\n",
    "# В случае метода __add__ следует создавать новый объект (как мы делем это в примере)\n",
    "# В случае метода __iadd__ следует изменять объект, метод которого мы изменяем.\n"
   ]
  },
  {
   "cell_type": "code",
   "execution_count": null,
   "metadata": {},
   "outputs": [],
   "source": [
    "# Следующий магический метод позволяет избавить от вызова метода info. \n",
    "# Определив метод __str__ в функцию print можно передать сам объект. \n",
    "# Дело в том, что функция print ищет у кажного выводимого объекта метод __str__. \n",
    "# Приведение функции к строке (функция str) также ищем метод __str__ у объекта\n",
    "\n",
    "class Time:\n",
    "    def __init__(self, minutes, seconds):\n",
    "        self.minutes = minutes\n",
    "        self.seconds = seconds\n",
    " \n",
    "    def __add__(self, other):\n",
    "        m = self.minutes + other.minutes\n",
    "        s = self.seconds + other.seconds\n",
    "        m += s // 60\n",
    "        s = s % 60\n",
    "        return Time(m, s)\n",
    " \n",
    "    def __str__(self):\n",
    "        return '{}:{}'.format(self.minutes, self.seconds)\n",
    "t = Time(4, 40)\n",
    "\n",
    "str(t)\n",
    "print(t)\n",
    "    \n",
    "t1 = Time(5, 50)\n",
    "print(t1)    # 5:50\n",
    "t2 = Time(3, 20)\n",
    "print(t2)    # 3:20\n",
    "t3 = t1 + t2\n",
    "print(t3)    # 9:10\n",
    "    \n",
    "# к магическим методам можно обращатья напрямую\n",
    "\n",
    "t1 = Time(5, 50)\n",
    "print(t1.__str__())    # 5:50\n"
   ]
  },
  {
   "cell_type": "markdown",
   "metadata": {},
   "source": [
    "| Метод          | Описание       |\n",
    "| :------------- | ------------- :|\n",
    "| \\_\\_add__(self, other)  | Сложение (x + y). Будет вызвано: x.\\_\\_add__(y)  |\n",
    "| \\_\\_sub__(self, other)  | Вычитание (x - y)  |\n",
    "| \\_\\_mul__(self, other)  | Умножение (x * y)  |\n",
    "| \\_\\_truediv__(self, other)  | Деление (x / y)  |\n",
    "| \\_\\_floordiv__(self, other) |\tЦелочисленное деление (x // y) |\n",
    "| \\_\\_mod__(self, other) |\tОстаток от деления (x % y) |\n",
    "| \\_\\_divmod__(self, other) |\tЧастное и остаток (divmod(x, y)) |\n",
    "| \\_\\_radd__(self, other) |\tСложение (y + x). Будет вызвано: y.\\_\\_radd__(x) |\n",
    "| \\_\\_rsub__(self, other) |\tВычитание (y - x) |\n",
    "| \\_\\_lt__(self, other) |\tСравнение (x < y). Будет вызвано: x.\\_\\_lt__(y) |\n",
    "| \\_\\_eq__(self, other) |\tСравнение (x == y). Будет вызвано: x.\\_\\_eq__(y) |\n",
    "| \\_\\_len__(self) |\tВозвращение длины объекта |\n",
    "| \\_\\_getitem__(self, key) |\tДоступ по индексу (или ключу) |\n",
    "| \\_\\_call__(self[, args...]) |\tВызов экземпляра класса как функции |"
   ]
  },
  {
   "cell_type": "code",
   "execution_count": 1,
   "metadata": {},
   "outputs": [],
   "source": [
    "# подробнее о магических методах можно прочитать тут https://habr.com/ru/post/186608/"
   ]
  },
  {
   "cell_type": "code",
   "execution_count": null,
   "metadata": {},
   "outputs": [],
   "source": [
    "# Наследование — свойство системы, позволяющее описать новый класс на основе уже существующего с частично \n",
    "# или полностью заимствующейся функциональностью. \n",
    "# Класс, от которого производится наследование, называется базовым, родительским или суперклассом. \n",
    "# Новый класс — потомком, наследником, дочерним или производным классом.\n",
    "class A:\n",
    "    pass\n",
    "class B(A):\n",
    "    pass"
   ]
  },
  {
   "cell_type": "code",
   "execution_count": 11,
   "metadata": {
    "scrolled": true
   },
   "outputs": [
    {
     "name": "stdout",
     "output_type": "stream",
     "text": [
      "1 class B class C\n"
     ]
    }
   ],
   "source": [
    "# Механизм наследования\n",
    "# поиск полей и методов при наследовании идет от текущиего класс вниз по дереву наследования\n",
    "class A:\n",
    "    a = 'class A'\n",
    "\n",
    "class B(A):\n",
    "    b = 'class B'\n",
    "\n",
    "class C(B):\n",
    "    c = 'class C'\n",
    "    \n",
    "c = C()\n",
    "c.a = 1\n",
    "print(c.a, c.b, c.c)\n",
    "\n",
    "# b = B()\n",
    "# print(b.a, b.b, b.c)"
   ]
  },
  {
   "cell_type": "code",
   "execution_count": 13,
   "metadata": {},
   "outputs": [],
   "source": [
    "# Имеем класс прямоугольника, который может считать площадь\n",
    "class Rectangle:\n",
    "    def __init__(self, a, b):\n",
    "        self.a = a\n",
    "        self.b = b\n",
    " \n",
    "    def area(self):\n",
    "        return self.a * self.b\n",
    "\n",
    "# Теперь нам понадобился класс для квадрата. \n",
    "class Square:\n",
    "    def __init__(self, a):\n",
    "        self.a = a\n",
    " \n",
    "    def area(self):\n",
    "        return self.a * self.a\n",
    "# Мы знаем, что квадрат - частный случай прямоугольника.в"
   ]
  },
  {
   "cell_type": "code",
   "execution_count": 15,
   "metadata": {
    "scrolled": true
   },
   "outputs": [
    {
     "name": "stdout",
     "output_type": "stream",
     "text": [
      "25\n"
     ]
    }
   ],
   "source": [
    "# Тут нам поможет механизм наследования\n",
    "class Square(Rectangle):\n",
    "    def __init__(self, a):\n",
    "        self.a = self.b = a\n",
    " \n",
    "s = Square(5)\n",
    "print(s.area())"
   ]
  },
  {
   "attachments": {
    "image.png": {
     "image/png": "[encoded data removed]"
    }
   },
   "cell_type": "markdown",
   "metadata": {},
   "source": [
    "\n",
    "![image.png](attachment:image.png)"
   ]
  },
  {
   "cell_type": "code",
   "execution_count": null,
   "metadata": {},
   "outputs": [],
   "source": [
    "from math import pi\n",
    "class Shape:\n",
    "    def describe(self):\n",
    "        # Атрибут __class__ содержит класс или тип объекта self\n",
    "        # Атрибут __name__ содержит строку,\n",
    "        # в которой написано название класса или типа\n",
    "        print(\"Класс: {}\".format(self.__class__.__name__))\n",
    " \n",
    "class Circle(Shape):\n",
    "    def __init__(self, radius):\n",
    "        self.r = radius\n",
    " \n",
    "    def area(self):\n",
    "        return pi * self.r ** 2\n",
    "    \n",
    "    def perimeter(self):\n",
    "        return 2 * pi * self.r\n",
    " \n",
    " \n",
    "class Rectangle(Shape):\n",
    "    def __init__(self, a, b):\n",
    "        self.a = a\n",
    "        self.b = b\n",
    " \n",
    "    def area(self):\n",
    "        return self.a * self.b\n",
    "    \n",
    "    def perimeter(self):\n",
    "        return 2 * (self.a + self.b)\n",
    "    \n",
    "class Square(Rectangle):\n",
    "    pass\n",
    "\n",
    "sq = Square(4, 4)\n",
    "print(sq.area())\n",
    "print(sq.perimeter())"
   ]
  },
  {
   "cell_type": "code",
   "execution_count": null,
   "metadata": {},
   "outputs": [],
   "source": [
    "# расширение метода\n",
    "class Square(Rectangle):\n",
    "    def __init__(self, size):\n",
    "        super().__init__(size, size)\n",
    "# super() позволяет обратиться к объекту родительского класса\n",
    "sq = Square(2)\n",
    "print(sq.area())\n",
    "print(sq.perimeter())\n",
    "print(sq.a)"
   ]
  },
  {
   "cell_type": "code",
   "execution_count": 16,
   "metadata": {},
   "outputs": [
    {
     "name": "stdout",
     "output_type": "stream",
     "text": [
      "2\n"
     ]
    }
   ],
   "source": [
    "# множественное наследие\n",
    "class A:\n",
    "    public = 1\n",
    "    _protected = 2\n",
    "    __private = 3\n",
    "  \n",
    "a = A()\n",
    "print(a._protected)"
   ]
  },
  {
   "cell_type": "code",
   "execution_count": null,
   "metadata": {},
   "outputs": [],
   "source": []
  }
 ],
 "metadata": {
  "kernelspec": {
   "display_name": "Python 3 (ipykernel)",
   "language": "python",
   "name": "python3"
  },
  "language_info": {
   "codemirror_mode": {
    "name": "ipython",
    "version": 3
   },
   "file_extension": ".py",
   "mimetype": "text/x-python",
   "name": "python",
   "nbconvert_exporter": "python",
   "pygments_lexer": "ipython3",
   "version": "3.10.2"
  }
 },
 "nbformat": 4,
 "nbformat_minor": 4
}
